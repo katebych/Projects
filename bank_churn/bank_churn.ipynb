{
 "cells": [
  {
   "cell_type": "markdown",
   "metadata": {},
   "source": [
    "# 1. Подготовка и предобработка данных"
   ]
  },
  {
   "cell_type": "markdown",
   "metadata": {},
   "source": [
    "Импорт библиотек:"
   ]
  },
  {
   "cell_type": "code",
   "execution_count": 9,
   "metadata": {},
   "outputs": [],
   "source": [
    "import pandas as pd\n",
    "import seaborn as sns\n",
    "from sklearn.model_selection import train_test_split, GridSearchCV\n",
    "from sklearn.preprocessing import StandardScaler\n",
    "from sklearn.metrics import f1_score, roc_curve, roc_auc_score, recall_score, precision_score  \n",
    "from sklearn.utils import shuffle\n",
    "import matplotlib.pyplot as plt\n",
    "\n",
    "from sklearn.tree import DecisionTreeClassifier\n",
    "from sklearn.ensemble import RandomForestClassifier\n",
    "from sklearn.linear_model import LogisticRegression"
   ]
  },
  {
   "cell_type": "markdown",
   "metadata": {},
   "source": [
    "Загрузим датасет и просмотрим первые 5 строк датасета, а также общую информацию о данных:"
   ]
  },
  {
   "cell_type": "code",
   "execution_count": 10,
   "metadata": {},
   "outputs": [
    {
     "data": {
      "text/html": [
       "<div>\n",
       "<style scoped>\n",
       "    .dataframe tbody tr th:only-of-type {\n",
       "        vertical-align: middle;\n",
       "    }\n",
       "\n",
       "    .dataframe tbody tr th {\n",
       "        vertical-align: top;\n",
       "    }\n",
       "\n",
       "    .dataframe thead th {\n",
       "        text-align: right;\n",
       "    }\n",
       "</style>\n",
       "<table border=\"1\" class=\"dataframe\">\n",
       "  <thead>\n",
       "    <tr style=\"text-align: right;\">\n",
       "      <th></th>\n",
       "      <th>RowNumber</th>\n",
       "      <th>CustomerId</th>\n",
       "      <th>Surname</th>\n",
       "      <th>CreditScore</th>\n",
       "      <th>Geography</th>\n",
       "      <th>Gender</th>\n",
       "      <th>Age</th>\n",
       "      <th>Tenure</th>\n",
       "      <th>Balance</th>\n",
       "      <th>NumOfProducts</th>\n",
       "      <th>HasCrCard</th>\n",
       "      <th>IsActiveMember</th>\n",
       "      <th>EstimatedSalary</th>\n",
       "      <th>Exited</th>\n",
       "    </tr>\n",
       "  </thead>\n",
       "  <tbody>\n",
       "    <tr>\n",
       "      <td>0</td>\n",
       "      <td>1</td>\n",
       "      <td>15634602</td>\n",
       "      <td>Hargrave</td>\n",
       "      <td>619</td>\n",
       "      <td>France</td>\n",
       "      <td>Female</td>\n",
       "      <td>42</td>\n",
       "      <td>2.0</td>\n",
       "      <td>0.00</td>\n",
       "      <td>1</td>\n",
       "      <td>1</td>\n",
       "      <td>1</td>\n",
       "      <td>101348.88</td>\n",
       "      <td>1</td>\n",
       "    </tr>\n",
       "    <tr>\n",
       "      <td>1</td>\n",
       "      <td>2</td>\n",
       "      <td>15647311</td>\n",
       "      <td>Hill</td>\n",
       "      <td>608</td>\n",
       "      <td>Spain</td>\n",
       "      <td>Female</td>\n",
       "      <td>41</td>\n",
       "      <td>1.0</td>\n",
       "      <td>83807.86</td>\n",
       "      <td>1</td>\n",
       "      <td>0</td>\n",
       "      <td>1</td>\n",
       "      <td>112542.58</td>\n",
       "      <td>0</td>\n",
       "    </tr>\n",
       "    <tr>\n",
       "      <td>2</td>\n",
       "      <td>3</td>\n",
       "      <td>15619304</td>\n",
       "      <td>Onio</td>\n",
       "      <td>502</td>\n",
       "      <td>France</td>\n",
       "      <td>Female</td>\n",
       "      <td>42</td>\n",
       "      <td>8.0</td>\n",
       "      <td>159660.80</td>\n",
       "      <td>3</td>\n",
       "      <td>1</td>\n",
       "      <td>0</td>\n",
       "      <td>113931.57</td>\n",
       "      <td>1</td>\n",
       "    </tr>\n",
       "    <tr>\n",
       "      <td>3</td>\n",
       "      <td>4</td>\n",
       "      <td>15701354</td>\n",
       "      <td>Boni</td>\n",
       "      <td>699</td>\n",
       "      <td>France</td>\n",
       "      <td>Female</td>\n",
       "      <td>39</td>\n",
       "      <td>1.0</td>\n",
       "      <td>0.00</td>\n",
       "      <td>2</td>\n",
       "      <td>0</td>\n",
       "      <td>0</td>\n",
       "      <td>93826.63</td>\n",
       "      <td>0</td>\n",
       "    </tr>\n",
       "    <tr>\n",
       "      <td>4</td>\n",
       "      <td>5</td>\n",
       "      <td>15737888</td>\n",
       "      <td>Mitchell</td>\n",
       "      <td>850</td>\n",
       "      <td>Spain</td>\n",
       "      <td>Female</td>\n",
       "      <td>43</td>\n",
       "      <td>2.0</td>\n",
       "      <td>125510.82</td>\n",
       "      <td>1</td>\n",
       "      <td>1</td>\n",
       "      <td>1</td>\n",
       "      <td>79084.10</td>\n",
       "      <td>0</td>\n",
       "    </tr>\n",
       "  </tbody>\n",
       "</table>\n",
       "</div>"
      ],
      "text/plain": [
       "   RowNumber  CustomerId   Surname  CreditScore Geography  Gender  Age  \\\n",
       "0          1    15634602  Hargrave          619    France  Female   42   \n",
       "1          2    15647311      Hill          608     Spain  Female   41   \n",
       "2          3    15619304      Onio          502    France  Female   42   \n",
       "3          4    15701354      Boni          699    France  Female   39   \n",
       "4          5    15737888  Mitchell          850     Spain  Female   43   \n",
       "\n",
       "   Tenure    Balance  NumOfProducts  HasCrCard  IsActiveMember  \\\n",
       "0     2.0       0.00              1          1               1   \n",
       "1     1.0   83807.86              1          0               1   \n",
       "2     8.0  159660.80              3          1               0   \n",
       "3     1.0       0.00              2          0               0   \n",
       "4     2.0  125510.82              1          1               1   \n",
       "\n",
       "   EstimatedSalary  Exited  \n",
       "0        101348.88       1  \n",
       "1        112542.58       0  \n",
       "2        113931.57       1  \n",
       "3         93826.63       0  \n",
       "4         79084.10       0  "
      ]
     },
     "execution_count": 10,
     "metadata": {},
     "output_type": "execute_result"
    }
   ],
   "source": [
    "df = pd.read_csv('/datasets/Churn.csv')\n",
    "df.head()"
   ]
  },
  {
   "cell_type": "code",
   "execution_count": 11,
   "metadata": {},
   "outputs": [
    {
     "name": "stdout",
     "output_type": "stream",
     "text": [
      "<class 'pandas.core.frame.DataFrame'>\n",
      "RangeIndex: 10000 entries, 0 to 9999\n",
      "Data columns (total 14 columns):\n",
      "RowNumber          10000 non-null int64\n",
      "CustomerId         10000 non-null int64\n",
      "Surname            10000 non-null object\n",
      "CreditScore        10000 non-null int64\n",
      "Geography          10000 non-null object\n",
      "Gender             10000 non-null object\n",
      "Age                10000 non-null int64\n",
      "Tenure             9091 non-null float64\n",
      "Balance            10000 non-null float64\n",
      "NumOfProducts      10000 non-null int64\n",
      "HasCrCard          10000 non-null int64\n",
      "IsActiveMember     10000 non-null int64\n",
      "EstimatedSalary    10000 non-null float64\n",
      "Exited             10000 non-null int64\n",
      "dtypes: float64(3), int64(8), object(3)\n",
      "memory usage: 1.1+ MB\n"
     ]
    }
   ],
   "source": [
    "df.info()"
   ]
  },
  {
   "cell_type": "markdown",
   "metadata": {},
   "source": [
    "Целевой признак - `Exited` - категориальный признак, принимающий значение 0 или 1. Перед нами задача бинарной классификации.  \n",
    "Признаки `RowNumber`, `CustomerId` ,  `Surname` нецелесообразно использовать в модели.  \n",
    "Признаки `Geography`, `Gender` - категориальные, необходимо преобразовать их в численные для использования в модели.  \n",
    "Остальные признаки - количественные (`CreditScore`, `Age`, `Tenure`, `Balance`, `NumOfProducts`, `EstimatedSalary`) или категориальные в бинарном формате (`HasCrCard`, `IsActiveMember`) - будем использовать в модели."
   ]
  },
  {
   "cell_type": "markdown",
   "metadata": {},
   "source": [
    "Приведем названия столбцов к нижнему регистру для удобства использования:"
   ]
  },
  {
   "cell_type": "code",
   "execution_count": 12,
   "metadata": {},
   "outputs": [
    {
     "data": {
      "text/plain": [
       "Index(['rownumber', 'customerid', 'surname', 'creditscore', 'geography',\n",
       "       'gender', 'age', 'tenure', 'balance', 'numofproducts', 'hascrcard',\n",
       "       'isactivemember', 'estimatedsalary', 'exited'],\n",
       "      dtype='object')"
      ]
     },
     "execution_count": 12,
     "metadata": {},
     "output_type": "execute_result"
    }
   ],
   "source": [
    "df.columns = df.columns.str.lower()\n",
    "df.columns # проверка"
   ]
  },
  {
   "cell_type": "markdown",
   "metadata": {},
   "source": [
    "В столбце `tenure` есть пропуски. Предположим, что это те, у кого нет в собственности недвижимости - заполним пропуски нулями:"
   ]
  },
  {
   "cell_type": "code",
   "execution_count": 13,
   "metadata": {},
   "outputs": [
    {
     "data": {
      "text/plain": [
       "0"
      ]
     },
     "execution_count": 13,
     "metadata": {},
     "output_type": "execute_result"
    }
   ],
   "source": [
    "df.tenure = df.tenure.fillna(0)\n",
    "df.tenure.isna().sum()"
   ]
  },
  {
   "cell_type": "markdown",
   "metadata": {},
   "source": [
    "Проверим датасет на наличие дубликатов:"
   ]
  },
  {
   "cell_type": "code",
   "execution_count": 14,
   "metadata": {},
   "outputs": [
    {
     "data": {
      "text/plain": [
       "0"
      ]
     },
     "execution_count": 14,
     "metadata": {},
     "output_type": "execute_result"
    }
   ],
   "source": [
    "df.duplicated().sum() # дубликатов не обнаружено"
   ]
  },
  {
   "cell_type": "markdown",
   "metadata": {},
   "source": [
    "Оценим распределения количественных переменных с помощью метода describe и графиков:"
   ]
  },
  {
   "cell_type": "code",
   "execution_count": 15,
   "metadata": {},
   "outputs": [
    {
     "name": "stdout",
     "output_type": "stream",
     "text": [
      "Распределение переменной creditscore\n",
      "count    10000.000000\n",
      "mean       650.528800\n",
      "std         96.653299\n",
      "min        350.000000\n",
      "25%        584.000000\n",
      "50%        652.000000\n",
      "75%        718.000000\n",
      "max        850.000000\n",
      "Name: creditscore, dtype: float64\n"
     ]
    },
    {
     "data": {
      "image/png": "[encoded data removed]",
      "text/plain": [
       "<Figure size 864x288 with 2 Axes>"
      ]
     },
     "metadata": {
      "needs_background": "light"
     },
     "output_type": "display_data"
    },
    {
     "name": "stdout",
     "output_type": "stream",
     "text": [
      "\n",
      "Распределение переменной age\n",
      "count    10000.000000\n",
      "mean        38.921800\n",
      "std         10.487806\n",
      "min         18.000000\n",
      "25%         32.000000\n",
      "50%         37.000000\n",
      "75%         44.000000\n",
      "max         92.000000\n",
      "Name: age, dtype: float64\n"
     ]
    },
    {
     "data": {
      "image/png": "[encoded data removed]",
      "text/plain": [
       "<Figure size 864x288 with 2 Axes>"
      ]
     },
     "metadata": {
      "needs_background": "light"
     },
     "output_type": "display_data"
    },
    {
     "name": "stdout",
     "output_type": "stream",
     "text": [
      "\n",
      "Распределение переменной tenure\n",
      "count    10000.000000\n",
      "mean         4.543400\n",
      "std          3.111573\n",
      "min          0.000000\n",
      "25%          2.000000\n",
      "50%          4.000000\n",
      "75%          7.000000\n",
      "max         10.000000\n",
      "Name: tenure, dtype: float64\n"
     ]
    },
    {
     "data": {
      "image/png": "[encoded data removed]",
      "text/plain": [
       "<Figure size 864x288 with 2 Axes>"
      ]
     },
     "metadata": {
      "needs_background": "light"
     },
     "output_type": "display_data"
    },
    {
     "name": "stdout",
     "output_type": "stream",
     "text": [
      "\n",
      "Распределение переменной balance\n",
      "count     10000.000000\n",
      "mean      76485.889288\n",
      "std       62397.405202\n",
      "min           0.000000\n",
      "25%           0.000000\n",
      "50%       97198.540000\n",
      "75%      127644.240000\n",
      "max      250898.090000\n",
      "Name: balance, dtype: float64\n"
     ]
    },
    {
     "data": {
      "image/png": "[encoded data removed]",
      "text/plain": [
       "<Figure size 864x288 with 2 Axes>"
      ]
     },
     "metadata": {
      "needs_background": "light"
     },
     "output_type": "display_data"
    },
    {
     "name": "stdout",
     "output_type": "stream",
     "text": [
      "\n",
      "Распределение переменной numofproducts\n",
      "count    10000.000000\n",
      "mean         1.530200\n",
      "std          0.581654\n",
      "min          1.000000\n",
      "25%          1.000000\n",
      "50%          1.000000\n",
      "75%          2.000000\n",
      "max          4.000000\n",
      "Name: numofproducts, dtype: float64\n"
     ]
    },
    {
     "data": {
      "image/png": "[encoded data removed]",
      "text/plain": [
       "<Figure size 864x288 with 2 Axes>"
      ]
     },
     "metadata": {
      "needs_background": "light"
     },
     "output_type": "display_data"
    },
    {
     "name": "stdout",
     "output_type": "stream",
     "text": [
      "\n",
      "Распределение переменной estimatedsalary\n",
      "count     10000.000000\n",
      "mean     100090.239881\n",
      "std       57510.492818\n",
      "min          11.580000\n",
      "25%       51002.110000\n",
      "50%      100193.915000\n",
      "75%      149388.247500\n",
      "max      199992.480000\n",
      "Name: estimatedsalary, dtype: float64\n"
     ]
    },
    {
     "data": {
      "image/png": "[encoded data removed]",
      "text/plain": [
       "<Figure size 864x288 with 2 Axes>"
      ]
     },
     "metadata": {
      "needs_background": "light"
     },
     "output_type": "display_data"
    },
    {
     "name": "stdout",
     "output_type": "stream",
     "text": [
      "\n"
     ]
    }
   ],
   "source": [
    "num_features = ['creditscore', 'age', 'tenure', 'balance', 'numofproducts', 'estimatedsalary']\n",
    "for feature in num_features:\n",
    "    print('Распределение переменной', feature)\n",
    "    print(df[feature].describe())\n",
    "    _, axes = plt.subplots(1, 2, figsize=(12, 4))\n",
    "    sns.boxplot(x=feature, data=df, ax=axes[0])\n",
    "    sns.distplot(df[feature], ax=axes[1])\n",
    "    plt.show()\n",
    "    print()"
   ]
  },
  {
   "cell_type": "markdown",
   "metadata": {},
   "source": [
    "Первоначальные выводы по данным:"
   ]
  },
  {
   "cell_type": "markdown",
   "metadata": {},
   "source": [
    "- Распределение кредитного рейтинга близко к нормальному, однако мы видим значительное число клиентов с максимальным кредитным рейтингом (850).  \n",
    "- Распределение клиентов по возрасту скошено вправо, что логично - кредиты не выдаются до достижения совершеннолетия.  \n",
    "- Количество недвижимости у клиента - целое число от 0 до 10, в среднем у клиента 4 объекта недвижимости.  \n",
    "- Видим значительное число клиентов с нулевым балансом на счете, максимальный баланс - более 250 тыс.  \n",
    "- В основном клиенты используют 1 или 2 банковских продукта, очень редко - 4 продукта.\n",
    "- Среднее зарплата клиентов 100 тыс., максимальная - 200 тыс."
   ]
  },
  {
   "cell_type": "markdown",
   "metadata": {},
   "source": [
    "Признаки `geography`, `gender` преобразуем с помощью прямого кодирования, избегая дамми-ловушки:"
   ]
  },
  {
   "cell_type": "code",
   "execution_count": 16,
   "metadata": {},
   "outputs": [
    {
     "data": {
      "text/plain": [
       "France     5014\n",
       "Germany    2509\n",
       "Spain      2477\n",
       "Name: geography, dtype: int64"
      ]
     },
     "execution_count": 16,
     "metadata": {},
     "output_type": "execute_result"
    }
   ],
   "source": [
    "df.geography.value_counts()"
   ]
  },
  {
   "cell_type": "code",
   "execution_count": 17,
   "metadata": {},
   "outputs": [
    {
     "data": {
      "text/plain": [
       "Male      5457\n",
       "Female    4543\n",
       "Name: gender, dtype: int64"
      ]
     },
     "execution_count": 17,
     "metadata": {},
     "output_type": "execute_result"
    }
   ],
   "source": [
    "df.gender.value_counts()"
   ]
  },
  {
   "cell_type": "code",
   "execution_count": 18,
   "metadata": {},
   "outputs": [
    {
     "data": {
      "text/html": [
       "<div>\n",
       "<style scoped>\n",
       "    .dataframe tbody tr th:only-of-type {\n",
       "        vertical-align: middle;\n",
       "    }\n",
       "\n",
       "    .dataframe tbody tr th {\n",
       "        vertical-align: top;\n",
       "    }\n",
       "\n",
       "    .dataframe thead th {\n",
       "        text-align: right;\n",
       "    }\n",
       "</style>\n",
       "<table border=\"1\" class=\"dataframe\">\n",
       "  <thead>\n",
       "    <tr style=\"text-align: right;\">\n",
       "      <th></th>\n",
       "      <th>rownumber</th>\n",
       "      <th>customerid</th>\n",
       "      <th>surname</th>\n",
       "      <th>creditscore</th>\n",
       "      <th>age</th>\n",
       "      <th>tenure</th>\n",
       "      <th>balance</th>\n",
       "      <th>numofproducts</th>\n",
       "      <th>hascrcard</th>\n",
       "      <th>isactivemember</th>\n",
       "      <th>estimatedsalary</th>\n",
       "      <th>exited</th>\n",
       "      <th>geography_Germany</th>\n",
       "      <th>geography_Spain</th>\n",
       "      <th>gender_Male</th>\n",
       "    </tr>\n",
       "  </thead>\n",
       "  <tbody>\n",
       "    <tr>\n",
       "      <td>0</td>\n",
       "      <td>1</td>\n",
       "      <td>15634602</td>\n",
       "      <td>Hargrave</td>\n",
       "      <td>619</td>\n",
       "      <td>42</td>\n",
       "      <td>2.0</td>\n",
       "      <td>0.00</td>\n",
       "      <td>1</td>\n",
       "      <td>1</td>\n",
       "      <td>1</td>\n",
       "      <td>101348.88</td>\n",
       "      <td>1</td>\n",
       "      <td>0</td>\n",
       "      <td>0</td>\n",
       "      <td>0</td>\n",
       "    </tr>\n",
       "    <tr>\n",
       "      <td>1</td>\n",
       "      <td>2</td>\n",
       "      <td>15647311</td>\n",
       "      <td>Hill</td>\n",
       "      <td>608</td>\n",
       "      <td>41</td>\n",
       "      <td>1.0</td>\n",
       "      <td>83807.86</td>\n",
       "      <td>1</td>\n",
       "      <td>0</td>\n",
       "      <td>1</td>\n",
       "      <td>112542.58</td>\n",
       "      <td>0</td>\n",
       "      <td>0</td>\n",
       "      <td>1</td>\n",
       "      <td>0</td>\n",
       "    </tr>\n",
       "    <tr>\n",
       "      <td>2</td>\n",
       "      <td>3</td>\n",
       "      <td>15619304</td>\n",
       "      <td>Onio</td>\n",
       "      <td>502</td>\n",
       "      <td>42</td>\n",
       "      <td>8.0</td>\n",
       "      <td>159660.80</td>\n",
       "      <td>3</td>\n",
       "      <td>1</td>\n",
       "      <td>0</td>\n",
       "      <td>113931.57</td>\n",
       "      <td>1</td>\n",
       "      <td>0</td>\n",
       "      <td>0</td>\n",
       "      <td>0</td>\n",
       "    </tr>\n",
       "    <tr>\n",
       "      <td>3</td>\n",
       "      <td>4</td>\n",
       "      <td>15701354</td>\n",
       "      <td>Boni</td>\n",
       "      <td>699</td>\n",
       "      <td>39</td>\n",
       "      <td>1.0</td>\n",
       "      <td>0.00</td>\n",
       "      <td>2</td>\n",
       "      <td>0</td>\n",
       "      <td>0</td>\n",
       "      <td>93826.63</td>\n",
       "      <td>0</td>\n",
       "      <td>0</td>\n",
       "      <td>0</td>\n",
       "      <td>0</td>\n",
       "    </tr>\n",
       "    <tr>\n",
       "      <td>4</td>\n",
       "      <td>5</td>\n",
       "      <td>15737888</td>\n",
       "      <td>Mitchell</td>\n",
       "      <td>850</td>\n",
       "      <td>43</td>\n",
       "      <td>2.0</td>\n",
       "      <td>125510.82</td>\n",
       "      <td>1</td>\n",
       "      <td>1</td>\n",
       "      <td>1</td>\n",
       "      <td>79084.10</td>\n",
       "      <td>0</td>\n",
       "      <td>0</td>\n",
       "      <td>1</td>\n",
       "      <td>0</td>\n",
       "    </tr>\n",
       "  </tbody>\n",
       "</table>\n",
       "</div>"
      ],
      "text/plain": [
       "   rownumber  customerid   surname  creditscore  age  tenure    balance  \\\n",
       "0          1    15634602  Hargrave          619   42     2.0       0.00   \n",
       "1          2    15647311      Hill          608   41     1.0   83807.86   \n",
       "2          3    15619304      Onio          502   42     8.0  159660.80   \n",
       "3          4    15701354      Boni          699   39     1.0       0.00   \n",
       "4          5    15737888  Mitchell          850   43     2.0  125510.82   \n",
       "\n",
       "   numofproducts  hascrcard  isactivemember  estimatedsalary  exited  \\\n",
       "0              1          1               1        101348.88       1   \n",
       "1              1          0               1        112542.58       0   \n",
       "2              3          1               0        113931.57       1   \n",
       "3              2          0               0         93826.63       0   \n",
       "4              1          1               1         79084.10       0   \n",
       "\n",
       "   geography_Germany  geography_Spain  gender_Male  \n",
       "0                  0                0            0  \n",
       "1                  0                1            0  \n",
       "2                  0                0            0  \n",
       "3                  0                0            0  \n",
       "4                  0                1            0  "
      ]
     },
     "execution_count": 18,
     "metadata": {},
     "output_type": "execute_result"
    }
   ],
   "source": [
    "df_ohe = pd.get_dummies(df, columns=['geography', 'gender'], drop_first=True)\n",
    "df_ohe.head() # новый датасет с дамми-признаками"
   ]
  },
  {
   "cell_type": "markdown",
   "metadata": {},
   "source": [
    "Разделим данные на обучающую, валидационную и тестовую выборки. Используем функцию train_test_split - сначала разделим данные на обучающую и валидационную выборки в соотношении 60:40, затем валидационную разобьем в соотношении 50:50, в итоге получим разбиение 60:20:20 обучающая-валидационная-тестовая выборки."
   ]
  },
  {
   "cell_type": "code",
   "execution_count": 19,
   "metadata": {},
   "outputs": [],
   "source": [
    "df_train, df_valid = train_test_split(df_ohe, test_size=0.4, random_state=12345) # разделим данные на обучающую и валидационную выборки\n",
    "df_valid, df_test = train_test_split(df_valid, test_size=0.5, random_state=12345) # разделим валидационную выборку на тестовую и новую валидационную\n",
    "\n",
    "features_train = df_train.drop(['exited', 'rownumber', 'customerid', 'surname'], axis=1) # признаки для обучения\n",
    "target_train = df_train['exited'] # цель обучения\n",
    "\n",
    "features_valid = df_valid.drop(['exited', 'rownumber', 'customerid', 'surname'], axis=1) # признаки для проверки\n",
    "target_valid = df_valid['exited'] # цель проверки\n",
    "\n",
    "features_test = df_test.drop(['exited', 'rownumber', 'customerid', 'surname'], axis=1) # тестовые признаки\n",
    "target_test = df_test['exited'] # тестовая цель"
   ]
  },
  {
   "cell_type": "markdown",
   "metadata": {},
   "source": [
    "Просмотрим размер получившихся выборок:"
   ]
  },
  {
   "cell_type": "code",
   "execution_count": 20,
   "metadata": {},
   "outputs": [
    {
     "name": "stdout",
     "output_type": "stream",
     "text": [
      "(6000, 11) (6000,)\n",
      "(2000, 11) (2000,)\n",
      "(2000, 11) (2000,)\n"
     ]
    }
   ],
   "source": [
    "print(features_train.shape, target_train.shape)\n",
    "print(features_valid.shape, target_valid.shape)\n",
    "print(features_test.shape, target_test.shape)"
   ]
  },
  {
   "cell_type": "markdown",
   "metadata": {},
   "source": [
    "У численных признаков в датасете разный масштаб - необходимо привести их к одному масштабу. Стандартизируем численные признаки."
   ]
  },
  {
   "cell_type": "code",
   "execution_count": 21,
   "metadata": {},
   "outputs": [
    {
     "data": {
      "text/html": [
       "<div>\n",
       "<style scoped>\n",
       "    .dataframe tbody tr th:only-of-type {\n",
       "        vertical-align: middle;\n",
       "    }\n",
       "\n",
       "    .dataframe tbody tr th {\n",
       "        vertical-align: top;\n",
       "    }\n",
       "\n",
       "    .dataframe thead th {\n",
       "        text-align: right;\n",
       "    }\n",
       "</style>\n",
       "<table border=\"1\" class=\"dataframe\">\n",
       "  <thead>\n",
       "    <tr style=\"text-align: right;\">\n",
       "      <th></th>\n",
       "      <th>creditscore</th>\n",
       "      <th>age</th>\n",
       "      <th>tenure</th>\n",
       "      <th>balance</th>\n",
       "      <th>numofproducts</th>\n",
       "      <th>estimatedsalary</th>\n",
       "    </tr>\n",
       "  </thead>\n",
       "  <tbody>\n",
       "    <tr>\n",
       "      <td>7479</td>\n",
       "      <td>-0.886751</td>\n",
       "      <td>-0.373192</td>\n",
       "      <td>1.104696</td>\n",
       "      <td>1.232271</td>\n",
       "      <td>-0.891560</td>\n",
       "      <td>-0.187705</td>\n",
       "    </tr>\n",
       "    <tr>\n",
       "      <td>3411</td>\n",
       "      <td>0.608663</td>\n",
       "      <td>-0.183385</td>\n",
       "      <td>1.104696</td>\n",
       "      <td>0.600563</td>\n",
       "      <td>-0.891560</td>\n",
       "      <td>-0.333945</td>\n",
       "    </tr>\n",
       "    <tr>\n",
       "      <td>6027</td>\n",
       "      <td>2.052152</td>\n",
       "      <td>0.480939</td>\n",
       "      <td>-0.503694</td>\n",
       "      <td>1.027098</td>\n",
       "      <td>0.830152</td>\n",
       "      <td>1.503095</td>\n",
       "    </tr>\n",
       "    <tr>\n",
       "      <td>1247</td>\n",
       "      <td>-1.457915</td>\n",
       "      <td>-1.417129</td>\n",
       "      <td>0.461340</td>\n",
       "      <td>-1.233163</td>\n",
       "      <td>0.830152</td>\n",
       "      <td>-1.071061</td>\n",
       "    </tr>\n",
       "    <tr>\n",
       "      <td>3716</td>\n",
       "      <td>0.130961</td>\n",
       "      <td>-1.132419</td>\n",
       "      <td>-0.825373</td>\n",
       "      <td>1.140475</td>\n",
       "      <td>-0.891560</td>\n",
       "      <td>1.524268</td>\n",
       "    </tr>\n",
       "  </tbody>\n",
       "</table>\n",
       "</div>"
      ],
      "text/plain": [
       "      creditscore       age    tenure   balance  numofproducts  \\\n",
       "7479    -0.886751 -0.373192  1.104696  1.232271      -0.891560   \n",
       "3411     0.608663 -0.183385  1.104696  0.600563      -0.891560   \n",
       "6027     2.052152  0.480939 -0.503694  1.027098       0.830152   \n",
       "1247    -1.457915 -1.417129  0.461340 -1.233163       0.830152   \n",
       "3716     0.130961 -1.132419 -0.825373  1.140475      -0.891560   \n",
       "\n",
       "      estimatedsalary  \n",
       "7479        -0.187705  \n",
       "3411        -0.333945  \n",
       "6027         1.503095  \n",
       "1247        -1.071061  \n",
       "3716         1.524268  "
      ]
     },
     "execution_count": 21,
     "metadata": {},
     "output_type": "execute_result"
    }
   ],
   "source": [
    "numeric = ['creditscore', 'age', 'tenure', 'balance', 'numofproducts', 'estimatedsalary']\n",
    "\n",
    "scaler = StandardScaler() # cоздадим объект этой структуры\n",
    "scaler.fit(features_train[numeric]) # настроим его на обучающих данных (вычисление среднего и дисперсии)\n",
    "\n",
    "features_train[numeric] = scaler.transform(features_train[numeric])\n",
    "features_valid[numeric] = scaler.transform(features_valid[numeric])\n",
    "features_test[numeric] = scaler.transform(features_test[numeric])\n",
    "\n",
    "features_train[numeric].head() # стандартизированные данные"
   ]
  },
  {
   "cell_type": "markdown",
   "metadata": {},
   "source": [
    "# 2. Обучение моделей без учёта дисбаланса классов"
   ]
  },
  {
   "cell_type": "markdown",
   "metadata": {},
   "source": [
    "Посмотрим на баланс классов целевого признака:"
   ]
  },
  {
   "cell_type": "code",
   "execution_count": 22,
   "metadata": {},
   "outputs": [
    {
     "data": {
      "text/plain": [
       "0    4804\n",
       "1    1196\n",
       "Name: exited, dtype: int64"
      ]
     },
     "execution_count": 22,
     "metadata": {},
     "output_type": "execute_result"
    }
   ],
   "source": [
    "target_train.value_counts()"
   ]
  },
  {
   "cell_type": "markdown",
   "metadata": {},
   "source": [
    "Объектов положительного класса в четыре раза меньше, чем отрицательного. Наблюдается дисбаланс классов. Для начала обучим модель без учёта дисбаланса.\n",
    "Затем улучшим качество модели, учитывая дисбаланс классов."
   ]
  },
  {
   "cell_type": "markdown",
   "metadata": {},
   "source": [
    "Для решения задачи бинарной классификации построим следующие модели:  \n",
    "- дерево решений;\n",
    "- случайный лес;\n",
    "- логистическую регрессию.  \n",
    "\n",
    "Как метрику качества будем использовать *F1-меру* (подойдет в случае несбалансированных классов).  \n",
    "Добавим также расчет метрик полноты и точности, понятных с точки зрения бизнеса. Полнота выявляет, какую долю положительных среди всех ответов выделила модель. Точность определяет, как много отрицательных ответов нашла модель, пока искала положительные."
   ]
  },
  {
   "cell_type": "markdown",
   "metadata": {},
   "source": [
    "### Подбор гиперпараметров вручную"
   ]
  },
  {
   "cell_type": "markdown",
   "metadata": {},
   "source": [
    "Напишем функции для подбора гиперпараметров моделей путем перебора вручную.  "
   ]
  },
  {
   "cell_type": "markdown",
   "metadata": {},
   "source": [
    "#### Дерево решений: подбор гиперпараметров вручную"
   ]
  },
  {
   "cell_type": "code",
   "execution_count": 23,
   "metadata": {},
   "outputs": [
    {
     "name": "stdout",
     "output_type": "stream",
     "text": [
      "Лучшие параметры дерева решений: max_depth = 6 min_samples_split = 8 criterion= gini\n",
      "Лучшая F1-мера: 0.5731523378582202\n",
      "Полнота: 0.45454545454545453\n",
      "Точность: 0.7755102040816326\n",
      "\n"
     ]
    }
   ],
   "source": [
    "def dtc(feat_train, targ_train):\n",
    "        \n",
    "    \"\"\" Функция для подбора гиперпараметров дерева решений.\n",
    "    Принимает на вход обучающие признаки и целевой признак.\n",
    "    Возвращает модель с наилучшими гиперпараметрами.\n",
    "    \n",
    "    \"\"\"\n",
    "    best_f1 = 0\n",
    "    for l in ['entropy','gini']:\n",
    "        for j in range(2,20,2):\n",
    "            for k in range(2,15,2):\n",
    "                model = DecisionTreeClassifier(max_depth=k, min_samples_split=j, criterion=l, random_state=12345)\n",
    "                model.fit(feat_train, targ_train) # обучение модели\n",
    "                f1_fit = f1_score(target_valid, model.predict(features_valid)) # проверка качества на валидационной выборке\n",
    "                if f1_fit > best_f1:\n",
    "                    best_f1 = f1_fit\n",
    "                    best_j = j\n",
    "                    best_k = k\n",
    "                    best_l = l\n",
    "                    model_dt = model\n",
    "    print('Лучшие параметры дерева решений: max_depth =', best_k, 'min_samples_split =', best_j, 'criterion=', best_l)\n",
    "    print('Лучшая F1-мера:', best_f1)\n",
    "    print('Полнота:', recall_score(target_valid, model_dt.predict(features_valid))) \n",
    "    print('Точность:', precision_score(target_valid, model_dt.predict(features_valid)))\n",
    "    print()\n",
    "    return model_dt\n",
    "\n",
    "model_dt = dtc(features_train, target_train)    "
   ]
  },
  {
   "cell_type": "markdown",
   "metadata": {},
   "source": [
    "#### Случайный лес: подбор гиперпараметров вручную"
   ]
  },
  {
   "cell_type": "code",
   "execution_count": 24,
   "metadata": {},
   "outputs": [
    {
     "name": "stdout",
     "output_type": "stream",
     "text": [
      "Лучшие параметры случайного леса: max_depth = 12 estim = 11 min_samples_split = 16 criterion = gini\n",
      "Лучшая F1-мера: 0.6158357771260996\n",
      "Полнота: 0.5023923444976076\n",
      "Точность: 0.7954545454545454\n",
      "\n",
      "CPU times: user 51.3 s, sys: 158 ms, total: 51.4 s\n",
      "Wall time: 51.6 s\n"
     ]
    }
   ],
   "source": [
    "%%time\n",
    "\n",
    "def rfc(feat_train, targ_train):\n",
    "    \"\"\" Функция для подбора гиперпараметров случайного леса.\n",
    "    Принимает на вход обучающие признаки и целевой признак.\n",
    "    Возвращает модель с наилучшими гиперпараметрами.\n",
    "    \n",
    "    \"\"\"\n",
    "    best_f1 = 0\n",
    "    for l in ['entropy','gini']:\n",
    "        for i in range(3,15,2):\n",
    "            for j in range(2,20,2):\n",
    "                for k in range(2,15,2):\n",
    "                    model = RandomForestClassifier(max_depth=k, n_estimators=i, min_samples_split=j, criterion=l, random_state=12345)\n",
    "                    model.fit(feat_train, targ_train) # обучение модели\n",
    "                    f1_fit = f1_score(target_valid, model.predict(features_valid)) # проверка качества на валидационной выборке\n",
    "                    if f1_fit > best_f1:\n",
    "                        best_f1 = f1_fit\n",
    "                        best_j = j\n",
    "                        best_i = i\n",
    "                        best_k = k\n",
    "                        best_l = l\n",
    "                        model_rf = model\n",
    "    print('Лучшие параметры случайного леса: max_depth =', best_k, 'estim =', best_i, 'min_samples_split =', best_j, 'criterion =', best_l)\n",
    "    print('Лучшая F1-мера:', best_f1)\n",
    "    print('Полнота:', recall_score(target_valid, model_rf.predict(features_valid))) \n",
    "    print('Точность:', precision_score(target_valid, model_rf.predict(features_valid)))\n",
    "    print()\n",
    "    return model_rf\n",
    "\n",
    "model_rf = rfc(features_train, target_train)  "
   ]
  },
  {
   "cell_type": "markdown",
   "metadata": {},
   "source": [
    "#### Логистическая регрессия: подбор гиперпараметров вручную"
   ]
  },
  {
   "cell_type": "code",
   "execution_count": 25,
   "metadata": {},
   "outputs": [
    {
     "name": "stdout",
     "output_type": "stream",
     "text": [
      "Лучшие параметры логистической регрессии: solver = newton-cg class_weight = balanced\n",
      "Лучшая F1-мера: 0.4888888888888888\n",
      "Полнота: 0.6842105263157895\n",
      "Точность: 0.3803191489361702\n",
      "\n"
     ]
    }
   ],
   "source": [
    "def lr(feat_train, targ_train):\n",
    "    \"\"\" Функция для подбора гиперпараметров логистической регрессии.\n",
    "    Принимает на вход обучающие признаки и целевой признак.\n",
    "    Возвращает модель с наилучшими гиперпараметрами.\n",
    "    \n",
    "    \"\"\"\n",
    "    best_f1 = 0\n",
    "    for l in ['balanced', None]:\n",
    "        for i in ['newton-cg', 'lbfgs', 'liblinear', 'sag', 'saga']:\n",
    "            model = LogisticRegression(class_weight=l, solver=i, random_state=12345)\n",
    "            model.fit(feat_train, targ_train) # обучение модели\n",
    "            f1_fit = f1_score(target_valid, model.predict(features_valid)) # проверка качества на валидационной выборке\n",
    "            if f1_fit > best_f1:\n",
    "                best_f1 = f1_fit\n",
    "                best_i = i\n",
    "                best_l = l\n",
    "                model_lr = model\n",
    "    print('Лучшие параметры логистической регрессии: solver =', best_i, 'class_weight =', best_l)\n",
    "    print('Лучшая F1-мера:', best_f1)\n",
    "    print('Полнота:', recall_score(target_valid, model_lr.predict(features_valid))) \n",
    "    print('Точность:', precision_score(target_valid, model_lr.predict(features_valid)))\n",
    "    print()\n",
    "    return model_lr\n",
    "\n",
    "model_lr = lr(features_train, target_train)   "
   ]
  },
  {
   "cell_type": "markdown",
   "metadata": {},
   "source": [
    "Дополнительно измерим AUC-ROC, сравним её значение с F1-мерой. Построим графики ROC-кривых.  \n",
    "Напишем функцию для расчета AUC-ROC и построения графиков:"
   ]
  },
  {
   "cell_type": "code",
   "execution_count": 26,
   "metadata": {},
   "outputs": [
    {
     "name": "stdout",
     "output_type": "stream",
     "text": [
      "DecisionTreeClassifier без учёта дисбаланса AUC-ROC= 0.8205371130964983\n"
     ]
    },
    {
     "data": {
      "image/png": "[encoded data removed]",
      "text/plain": [
       "<Figure size 432x288 with 1 Axes>"
      ]
     },
     "metadata": {
      "needs_background": "light"
     },
     "output_type": "display_data"
    },
    {
     "name": "stdout",
     "output_type": "stream",
     "text": [
      "RandomForestClassifier без учёта дисбаланса AUC-ROC= 0.8340118195730678\n"
     ]
    },
    {
     "data": {
      "image/png": "[encoded data removed]",
      "text/plain": [
       "<Figure size 432x288 with 1 Axes>"
      ]
     },
     "metadata": {
      "needs_background": "light"
     },
     "output_type": "display_data"
    },
    {
     "name": "stdout",
     "output_type": "stream",
     "text": [
      "LogisticRegression без учёта дисбаланса AUC-ROC= 0.7634905848692528\n"
     ]
    },
    {
     "data": {
      "image/png": "[encoded data removed]",
      "text/plain": [
       "<Figure size 432x288 with 1 Axes>"
      ]
     },
     "metadata": {
      "needs_background": "light"
     },
     "output_type": "display_data"
    }
   ],
   "source": [
    "def aucroc(model, model_name):\n",
    "    \"\"\" Функция для расчета AUC-ROC и построения графиков.\n",
    "    Принимает на вход модель и название модели.\n",
    "    Возвращает значение AUC-ROC и строит график ROC-кривой.\n",
    "    \n",
    "    \"\"\"\n",
    "    probabilities_valid = model.predict_proba(features_valid)\n",
    "    probabilities_one_valid = probabilities_valid[:, 1]\n",
    "    auc_roc = roc_auc_score(target_valid, probabilities_one_valid)\n",
    "    print(model_name, 'AUC-ROC=', auc_roc)\n",
    "    \n",
    "    fpr, tpr, thresholds = roc_curve(target_valid, probabilities_one_valid)\n",
    "    plt.figure()\n",
    "    plt.plot(fpr, tpr)\n",
    "    # ROC-кривая случайной модели (выглядит как прямая)\n",
    "    plt.plot([0, 1], [0, 1], linestyle='--')\n",
    "    plt.xlim([0, 1])  # установим границы осей от 0 до 1\n",
    "    plt.ylim([0, 1])\n",
    "    plt.xlabel(\"False Positive Rate\")\n",
    "    plt.ylabel(\"True Positive Rate\")\n",
    "    plt.title(\"ROC-кривая\") \n",
    "    plt.show()\n",
    "    return auc_roc\n",
    "\n",
    "models = [model_dt, model_rf, model_lr]\n",
    "models_names = ['DecisionTreeClassifier без учёта дисбаланса', 'RandomForestClassifier без учёта дисбаланса', 'LogisticRegression без учёта дисбаланса']\n",
    "for i in range(len(models)):\n",
    "    aucroc(models[i], models_names[i])"
   ]
  },
  {
   "cell_type": "markdown",
   "metadata": {},
   "source": [
    "### Вывод"
   ]
  },
  {
   "cell_type": "markdown",
   "metadata": {},
   "source": [
    "Лучших результатов при переборе параметов удалось добиться на модели случайного леса: F1-мера на валидационной выборке равна 0.616.  \n",
    "Логистическая регрессия на несбалансированных классах дает совсем низкое качество, при взвешивании классов (агрумент class_weight='balanced') F1-мера повышается, но все равно остается ниже, чем у других моделей."
   ]
  },
  {
   "cell_type": "markdown",
   "metadata": {},
   "source": [
    "Площадь под ROC-кривой — AUC-ROC у построенных нами моделей больше, чем у случайной модели (AUC-ROC случайной модели равна 0.5). Из графиков также видно, что модели лучше случайной. Самое высокое значение auc_roc = 0.834 у модели случайного леса."
   ]
  },
  {
   "cell_type": "markdown",
   "metadata": {},
   "source": [
    "### Подбор гиперпараметров с помощью GridSearchCV"
   ]
  },
  {
   "cell_type": "markdown",
   "metadata": {},
   "source": [
    "Также проведем поиск гиперпараметров с помощью GridSearchCV.  \n",
    "При реализации GridSearchCV используем метрику F1(scoring='f1'), однако полученные значения будут отличаться от метрик качества, получаемых на валидационной выборке. GridSearchCV делает внутри себя кросс-валидацию, и выдает усредненное качество на тестовой части обучающей выборки. Поэтому для корректного сравнения моделей посчитаем f1_score на валидационной выборке по моделям с гиперпараметрами, рассчитанными с помощью GridSearchCV."
   ]
  },
  {
   "cell_type": "markdown",
   "metadata": {},
   "source": [
    "#### Дерево решений: подбор гиперпараметров с помощью GridSearchCV"
   ]
  },
  {
   "cell_type": "code",
   "execution_count": 27,
   "metadata": {},
   "outputs": [
    {
     "name": "stdout",
     "output_type": "stream",
     "text": [
      "Лучшие параметры дерева решений: {'criterion': 'entropy', 'max_depth': 10, 'min_samples_leaf': 9, 'min_samples_split': 2, 'random_state': 12345}\n",
      "Лучшая f1-мера, рассчитанная GridSearchCV: 0.5677720119205945\n",
      "\n",
      "CPU times: user 49.3 s, sys: 53.2 ms, total: 49.4 s\n",
      "Wall time: 50.1 s\n"
     ]
    }
   ],
   "source": [
    "%%time\n",
    "\n",
    "grid_search = GridSearchCV(estimator=DecisionTreeClassifier(),\n",
    "                           param_grid={'criterion':['entropy','gini'],\n",
    "                                       'max_depth': range(2,11),\n",
    "                                       'min_samples_split':range(2,11,2),\n",
    "                                       'random_state':[12345],\n",
    "                                       'min_samples_leaf': range(2,11)},\n",
    "                           scoring='f1', cv=3, n_jobs=-1\n",
    "                           )\n",
    "\n",
    "grid_search.fit(features_train, target_train)\n",
    "\n",
    "model_dt_grid_search = grid_search.best_estimator_\n",
    "best_param = grid_search.best_params_\n",
    "best_score = grid_search.best_score_\n",
    "\n",
    "print('Лучшие параметры дерева решений:', best_param)\n",
    "print('Лучшая f1-мера, рассчитанная GridSearchCV:', best_score)\n",
    "print()"
   ]
  },
  {
   "cell_type": "markdown",
   "metadata": {},
   "source": [
    "#### Случайный лес: подбор гиперпараметров с помощью GridSearchCV "
   ]
  },
  {
   "cell_type": "code",
   "execution_count": 28,
   "metadata": {},
   "outputs": [
    {
     "name": "stdout",
     "output_type": "stream",
     "text": [
      "Лучшие параметры случайного леса: {'criterion': 'entropy', 'max_depth': 10, 'min_samples_leaf': 2, 'min_samples_split': 10, 'n_estimators': 9, 'random_state': 12345}\n",
      "Лучшая f1-мера, рассчитанная GridSearchCV: 0.5631835637907311\n",
      "\n",
      "CPU times: user 1min 24s, sys: 311 ms, total: 1min 24s\n",
      "Wall time: 1min 25s\n"
     ]
    }
   ],
   "source": [
    "%%time \n",
    "\n",
    "grid_search = GridSearchCV(estimator=RandomForestClassifier(),\n",
    "                           param_grid={'criterion':['entropy','gini'],\n",
    "                                       'max_depth': range(2,11),\n",
    "                                       'n_estimators': range(3,11,2),\n",
    "                                       'min_samples_split':range(2,11,2),\n",
    "                                       'random_state':[12345],\n",
    "                                       'min_samples_leaf': range(2,4)},\n",
    "                           scoring='f1', cv=3, n_jobs=-1\n",
    "                           )\n",
    "\n",
    "grid_search.fit(features_train, target_train)\n",
    "\n",
    "model_rf_grid_search = grid_search.best_estimator_\n",
    "best_param = grid_search.best_params_\n",
    "best_score = grid_search.best_score_\n",
    "\n",
    "print('Лучшие параметры случайного леса:', best_param)\n",
    "print('Лучшая f1-мера, рассчитанная GridSearchCV:', best_score)\n",
    "print()"
   ]
  },
  {
   "cell_type": "markdown",
   "metadata": {},
   "source": [
    "#### Логистическая регрессия: подбор гиперпараметров с помощью GridSearchCV"
   ]
  },
  {
   "cell_type": "code",
   "execution_count": 29,
   "metadata": {},
   "outputs": [
    {
     "name": "stdout",
     "output_type": "stream",
     "text": [
      "Лучшие параметры логистической регрессии: {'class_weight': 'balanced', 'random_state': 12345, 'solver': 'newton-cg'}\n",
      "Лучшая f1-мера, рассчитанная GridSearchCV: 0.49553288972024406\n",
      "\n",
      "CPU times: user 5.29 s, sys: 4.09 s, total: 9.38 s\n",
      "Wall time: 9.33 s\n"
     ]
    }
   ],
   "source": [
    "%%time\n",
    "\n",
    "grid_search = GridSearchCV(estimator=LogisticRegression(),\n",
    "             param_grid={'class_weight': (None, 'balanced'), \n",
    "                         'solver': ('newton-cg', 'lbfgs', 'liblinear', 'sag', 'saga'),\n",
    "                         'random_state': [12345]},\n",
    "             scoring='f1', cv=3\n",
    "                          )\n",
    "\n",
    "grid_search.fit(features_train, target_train)\n",
    "\n",
    "model_lr_grid_search = grid_search.best_estimator_\n",
    "best_param = grid_search.best_params_\n",
    "best_score = grid_search.best_score_\n",
    "\n",
    "print('Лучшие параметры логистической регрессии:', best_param)\n",
    "print('Лучшая f1-мера, рассчитанная GridSearchCV:', best_score)\n",
    "print()"
   ]
  },
  {
   "cell_type": "markdown",
   "metadata": {},
   "source": [
    "Посчитаем f1_score на валидационной выборке по моделям с гиперпараметрами, рассчитанными с помощью GridSearchCV."
   ]
  },
  {
   "cell_type": "code",
   "execution_count": 30,
   "metadata": {},
   "outputs": [
    {
     "name": "stdout",
     "output_type": "stream",
     "text": [
      "F1-мера дерева решений 0.5612104539202202\n",
      "F1-мера случайного леса 0.5723172628304821\n",
      "F1-мера логистической регрессии 0.4888888888888888\n"
     ]
    }
   ],
   "source": [
    "model_dt_grid_search.fit(features_train, target_train) # обучение моделей\n",
    "model_rf_grid_search.fit(features_train, target_train)\n",
    "model_lr_grid_search.fit(features_train, target_train)\n",
    "\n",
    "f1_dt_grid_search = f1_score(target_valid, model_dt_grid_search.predict(features_valid)) # проверка качества на валидационной выборке\n",
    "f1_rf_grid_search = f1_score(target_valid, model_rf_grid_search.predict(features_valid))\n",
    "f1_lr_grid_search = f1_score(target_valid, model_lr_grid_search.predict(features_valid))\n",
    "\n",
    "print('F1-мера дерева решений', f1_dt_grid_search)\n",
    "print('F1-мера случайного леса', f1_rf_grid_search)\n",
    "print('F1-мера логистической регрессии', f1_lr_grid_search)"
   ]
  },
  {
   "cell_type": "markdown",
   "metadata": {},
   "source": [
    "### Вывод"
   ]
  },
  {
   "cell_type": "markdown",
   "metadata": {},
   "source": [
    "После подбора гиперпараметров с помощью GridSearchCV и расчета F1-метрики на валидационной выборке мы получили качество модели несколько хуже, чем при ручном поиске (лучший результат получили у случайного леса: F1-мера = 0.572). Чтобы снизить время вычислений, при GridSearchCV задан несколько более узкий диапазон параметров, что и дало меньшее значение F1 меры."
   ]
  },
  {
   "cell_type": "markdown",
   "metadata": {},
   "source": [
    "# 3. Устранение дисбаланса классов"
   ]
  },
  {
   "cell_type": "markdown",
   "metadata": {},
   "source": [
    "Для устранения дисбаланса классов используем техники upsampling (скопировать несколько раз положительные объекты) и  downsampling (случайным образом отбросить часть отрицательных объектов)."
   ]
  },
  {
   "cell_type": "markdown",
   "metadata": {},
   "source": [
    "### Увеличение выборки - техника upsampling "
   ]
  },
  {
   "cell_type": "code",
   "execution_count": 31,
   "metadata": {},
   "outputs": [
    {
     "name": "stdout",
     "output_type": "stream",
     "text": [
      "(8392, 11)\n"
     ]
    }
   ],
   "source": [
    "def upsample(features, target, repeat):\n",
    "    \n",
    "    \"\"\" Функция для устранения дисбаланса классов техникой upsampling.\n",
    "    Принимает на вход обучающую выборку, целевой признак и параметр repeat.\n",
    "    Возвращает новую обучающую выборку и целевой признак.\n",
    "    \n",
    "    \"\"\"\n",
    "    # разделим обучающую выборку на отрицательные и положительные объекты\n",
    "    features_zeros = features[target == 0]\n",
    "    features_ones = features[target == 1]\n",
    "    target_zeros = target[target == 0]\n",
    "    target_ones = target[target == 1]\n",
    "\n",
    "    features_upsampled = pd.concat([features_zeros] + [features_ones] * repeat)\n",
    "    target_upsampled = pd.concat([target_zeros] + [target_ones] * repeat)\n",
    "    \n",
    "    features_upsampled, target_upsampled = shuffle(\n",
    "        features_upsampled, target_upsampled, random_state=12345)\n",
    "    \n",
    "    return features_upsampled, target_upsampled\n",
    "\n",
    "features_upsampled, target_upsampled = upsample(features_train, target_train, 3)\n",
    "\n",
    "print(features_upsampled.shape)"
   ]
  },
  {
   "cell_type": "markdown",
   "metadata": {},
   "source": [
    "### Уменьшение выборки - техника downsampling  "
   ]
  },
  {
   "cell_type": "code",
   "execution_count": 32,
   "metadata": {},
   "outputs": [
    {
     "name": "stdout",
     "output_type": "stream",
     "text": [
      "(2397, 11)\n"
     ]
    }
   ],
   "source": [
    "def downsample(features, target, fraction):\n",
    "    \n",
    "    \"\"\" Функция для устранения дисбаланса классов техникой downsampling.\n",
    "    Принимает на вход обучающую выборку, целевой признак и параметр fraction.\n",
    "    Возвращает новую обучающую выборку и целевой признак.\n",
    "    \n",
    "    \"\"\"\n",
    "    # разделим обучающую выборку на отрицательные и положительные объекты\n",
    "    features_zeros = features[target == 0]\n",
    "    features_ones = features[target == 1]\n",
    "    target_zeros = target[target == 0]\n",
    "    target_ones = target[target == 1]\n",
    "\n",
    "    features_downsampled = pd.concat(\n",
    "        [features_zeros.sample(frac=fraction, random_state=12345)] + [features_ones])\n",
    "    target_downsampled = pd.concat(\n",
    "        [target_zeros.sample(frac=fraction, random_state=12345)] + [target_ones])\n",
    "    \n",
    "    features_downsampled, target_downsampled = shuffle(\n",
    "        features_downsampled, target_downsampled, random_state=12345)\n",
    "    \n",
    "    return features_downsampled, target_downsampled\n",
    "\n",
    "features_downsampled, target_downsampled = downsample(features_train, target_train, 0.25)\n",
    "\n",
    "print(features_downsampled.shape)"
   ]
  },
  {
   "cell_type": "markdown",
   "metadata": {},
   "source": [
    "## Подбор гиперпараметров моделей после устранения дисбаланса классов"
   ]
  },
  {
   "cell_type": "markdown",
   "metadata": {},
   "source": [
    "Если считать метрику качества на выборке, которую предварительно изменили с помощью апсемплинга/даунсемплинга, то значение посчитанной метрики будет смещено от истинного значения. Соответственно использовать GridSearchCV на выборке после апсемплинга/даунсемплинга неправильно. Посчитаем метрику F1 с помощью написанных нами функций."
   ]
  },
  {
   "cell_type": "markdown",
   "metadata": {},
   "source": [
    "### Дерево решений"
   ]
  },
  {
   "cell_type": "markdown",
   "metadata": {},
   "source": [
    "Дерево решений после апсемплинга:"
   ]
  },
  {
   "cell_type": "code",
   "execution_count": 33,
   "metadata": {},
   "outputs": [
    {
     "name": "stdout",
     "output_type": "stream",
     "text": [
      "Лучшие параметры дерева решений: max_depth = 6 min_samples_split = 2 criterion= entropy\n",
      "Лучшая F1-мера: 0.5956566701137539\n",
      "Полнота: 0.6889952153110048\n",
      "Точность: 0.5245901639344263\n",
      "\n"
     ]
    }
   ],
   "source": [
    "model_destr_best = dtc(features_upsampled, target_upsampled)"
   ]
  },
  {
   "cell_type": "markdown",
   "metadata": {},
   "source": [
    "Дерево решений после даунсемплинга:"
   ]
  },
  {
   "cell_type": "code",
   "execution_count": 34,
   "metadata": {},
   "outputs": [
    {
     "name": "stdout",
     "output_type": "stream",
     "text": [
      "Лучшие параметры дерева решений: max_depth = 4 min_samples_split = 2 criterion= entropy\n",
      "Лучшая F1-мера: 0.5936842105263158\n",
      "Полнота: 0.6746411483253588\n",
      "Точность: 0.5300751879699248\n",
      "\n"
     ]
    },
    {
     "data": {
      "text/plain": [
       "DecisionTreeClassifier(class_weight=None, criterion='entropy', max_depth=4,\n",
       "                       max_features=None, max_leaf_nodes=None,\n",
       "                       min_impurity_decrease=0.0, min_impurity_split=None,\n",
       "                       min_samples_leaf=1, min_samples_split=2,\n",
       "                       min_weight_fraction_leaf=0.0, presort=False,\n",
       "                       random_state=12345, splitter='best')"
      ]
     },
     "execution_count": 34,
     "metadata": {},
     "output_type": "execute_result"
    }
   ],
   "source": [
    "dtc(features_downsampled, target_downsampled)"
   ]
  },
  {
   "cell_type": "markdown",
   "metadata": {},
   "source": [
    "Лучший результат у модели дерева решений после апсемплинга - F1-мера 0.596"
   ]
  },
  {
   "cell_type": "markdown",
   "metadata": {},
   "source": [
    "### Случайный лес"
   ]
  },
  {
   "cell_type": "markdown",
   "metadata": {},
   "source": [
    "Случайный лес после апсемплинга:"
   ]
  },
  {
   "cell_type": "code",
   "execution_count": 35,
   "metadata": {},
   "outputs": [
    {
     "name": "stdout",
     "output_type": "stream",
     "text": [
      "Лучшие параметры случайного леса: max_depth = 6 estim = 13 min_samples_split = 14 criterion = gini\n",
      "Лучшая F1-мера: 0.639080459770115\n",
      "Полнота: 0.6650717703349283\n",
      "Точность: 0.6150442477876106\n",
      "\n"
     ]
    }
   ],
   "source": [
    "model_ranfor_best = rfc(features_upsampled, target_upsampled)"
   ]
  },
  {
   "cell_type": "markdown",
   "metadata": {},
   "source": [
    "Случайный лес после даунсемплинга:"
   ]
  },
  {
   "cell_type": "code",
   "execution_count": 36,
   "metadata": {},
   "outputs": [
    {
     "name": "stdout",
     "output_type": "stream",
     "text": [
      "Лучшие параметры случайного леса: max_depth = 4 estim = 9 min_samples_split = 6 criterion = gini\n",
      "Лучшая F1-мера: 0.6097318768619662\n",
      "Полнота: 0.7344497607655502\n",
      "Точность: 0.5212224108658744\n",
      "\n"
     ]
    },
    {
     "data": {
      "text/plain": [
       "RandomForestClassifier(bootstrap=True, class_weight=None, criterion='gini',\n",
       "                       max_depth=4, max_features='auto', max_leaf_nodes=None,\n",
       "                       min_impurity_decrease=0.0, min_impurity_split=None,\n",
       "                       min_samples_leaf=1, min_samples_split=6,\n",
       "                       min_weight_fraction_leaf=0.0, n_estimators=9,\n",
       "                       n_jobs=None, oob_score=False, random_state=12345,\n",
       "                       verbose=0, warm_start=False)"
      ]
     },
     "execution_count": 36,
     "metadata": {},
     "output_type": "execute_result"
    }
   ],
   "source": [
    "rfc(features_downsampled, target_downsampled)"
   ]
  },
  {
   "cell_type": "markdown",
   "metadata": {},
   "source": [
    "Лучший результат у модели случайного леса после апсемплинга: F1-мера 0.639, Полнота: 0.665, Точность: 0.615"
   ]
  },
  {
   "cell_type": "markdown",
   "metadata": {},
   "source": [
    "### Логистическая регрессия"
   ]
  },
  {
   "cell_type": "markdown",
   "metadata": {},
   "source": [
    "Логистическая регрессия после апсемплинга:"
   ]
  },
  {
   "cell_type": "code",
   "execution_count": 37,
   "metadata": {},
   "outputs": [
    {
     "name": "stdout",
     "output_type": "stream",
     "text": [
      "Лучшие параметры логистической регрессии: solver = newton-cg class_weight = None\n",
      "Лучшая F1-мера: 0.5014985014985014\n",
      "Полнота: 0.6004784688995215\n",
      "Точность: 0.4305317324185249\n",
      "\n"
     ]
    }
   ],
   "source": [
    "model_logreg_best = lr(features_upsampled, target_upsampled)"
   ]
  },
  {
   "cell_type": "markdown",
   "metadata": {},
   "source": [
    "Логистическая регрессия после даунсемплинга:"
   ]
  },
  {
   "cell_type": "code",
   "execution_count": 38,
   "metadata": {},
   "outputs": [
    {
     "name": "stdout",
     "output_type": "stream",
     "text": [
      "Лучшие параметры логистической регрессии: solver = newton-cg class_weight = balanced\n",
      "Лучшая F1-мера: 0.4892703862660944\n",
      "Полнота: 0.6818181818181818\n",
      "Точность: 0.3815261044176707\n",
      "\n"
     ]
    },
    {
     "data": {
      "text/plain": [
       "LogisticRegression(C=1.0, class_weight='balanced', dual=False,\n",
       "                   fit_intercept=True, intercept_scaling=1, l1_ratio=None,\n",
       "                   max_iter=100, multi_class='warn', n_jobs=None, penalty='l2',\n",
       "                   random_state=12345, solver='newton-cg', tol=0.0001,\n",
       "                   verbose=0, warm_start=False)"
      ]
     },
     "execution_count": 38,
     "metadata": {},
     "output_type": "execute_result"
    }
   ],
   "source": [
    "lr(features_downsampled, target_downsampled)"
   ]
  },
  {
   "cell_type": "markdown",
   "metadata": {},
   "source": [
    "Лучший результат у модели логистической регресии после апсемплинга: F1-мера 0.501"
   ]
  },
  {
   "cell_type": "markdown",
   "metadata": {},
   "source": [
    "Дополнительно измерим AUC-ROC моделей после устранения дисбаланса классов, сравним их значение с F1-мерой. Построим графики"
   ]
  },
  {
   "cell_type": "code",
   "execution_count": 40,
   "metadata": {},
   "outputs": [
    {
     "name": "stdout",
     "output_type": "stream",
     "text": [
      "DecisionTreeClassifier после апсемплинга AUC-ROC= 0.8171368687204738\n"
     ]
    },
    {
     "data": {
      "image/png": "[encoded data removed]",
      "text/plain": [
       "<Figure size 432x288 with 1 Axes>"
      ]
     },
     "metadata": {
      "needs_background": "light"
     },
     "output_type": "display_data"
    },
    {
     "name": "stdout",
     "output_type": "stream",
     "text": [
      "RandomForestClassifier после апсемплинга AUC-ROC= 0.8483341297733472\n"
     ]
    },
    {
     "data": {
      "image/png": "[encoded data removed]",
      "text/plain": [
       "<Figure size 432x288 with 1 Axes>"
      ]
     },
     "metadata": {
      "needs_background": "light"
     },
     "output_type": "display_data"
    },
    {
     "name": "stdout",
     "output_type": "stream",
     "text": [
      "LogisticRegression после апсемплинга AUC-ROC= 0.7624940266998954\n"
     ]
    },
    {
     "data": {
      "image/png": "[encoded data removed]",
      "text/plain": [
       "<Figure size 432x288 with 1 Axes>"
      ]
     },
     "metadata": {
      "needs_background": "light"
     },
     "output_type": "display_data"
    }
   ],
   "source": [
    "models = [model_destr_best, model_ranfor_best, model_logreg_best]\n",
    "models_names = ['DecisionTreeClassifier после апсемплинга', 'RandomForestClassifier после апсемплинга', 'LogisticRegression после апсемплинга']\n",
    "for i in range(len(models)):\n",
    "    aucroc(models[i], models_names[i])"
   ]
  },
  {
   "cell_type": "markdown",
   "metadata": {},
   "source": [
    "### Вывод "
   ]
  },
  {
   "cell_type": "markdown",
   "metadata": {},
   "source": [
    "После апсемплинга качество моделей выросло значительнее, чем после даунсемплинга. После устранения дисбаланса классов самое высокое качество мы получили у модели случайного леса после апсемплинга: F1-мера 0.639, Полнота: 0.665, Точность: 0.615. Значение auc_roc у модели случайного леса 0.848. Из графика ROC-кривой также видно, что модель значительно лучше случайной. "
   ]
  },
  {
   "cell_type": "markdown",
   "metadata": {},
   "source": [
    "# 4. Тестирование модели"
   ]
  },
  {
   "cell_type": "markdown",
   "metadata": {},
   "source": [
    "Проведем финальное тестирование наилучшей модели (случайный лес после апсемплинга) на тестовой выборке."
   ]
  },
  {
   "cell_type": "code",
   "execution_count": 41,
   "metadata": {},
   "outputs": [
    {
     "name": "stdout",
     "output_type": "stream",
     "text": [
      "F1-score модели RandomForestClassifier на тестовой выборке: 0.6137931034482759\n",
      "Полнота: 0.6312056737588653\n",
      "Точность: 0.5973154362416108\n"
     ]
    }
   ],
   "source": [
    "print(\"F1-score модели RandomForestClassifier на тестовой выборке:\", f1_score(target_test, model_ranfor_best.predict(features_test)))\n",
    "print('Полнота:', recall_score(target_test, model_ranfor_best.predict(features_test))) \n",
    "print('Точность:', precision_score(target_test, model_ranfor_best.predict(features_test)))"
   ]
  },
  {
   "cell_type": "markdown",
   "metadata": {},
   "source": [
    "Полученное значение F1-score модели RandomForestClassifier на тестовой выборке: 0.614 удовлетворяет нашему условию (получить метрику не меньше 0.59). "
   ]
  },
  {
   "cell_type": "markdown",
   "metadata": {},
   "source": [
    "# 5. Общий вывод"
   ]
  },
  {
   "cell_type": "markdown",
   "metadata": {},
   "source": [
    "Для прогнозирования ухода клиента из банка был устранен дисбаланс классов, наилучший результат показала модель случайного леса со значением F1-меры на тестовой выборке 0.614 (Полнота: 0.631, Точность: 0.597). "
   ]
  }
 ],
 "metadata": {
  "kernelspec": {
   "display_name": "Python 3",
   "language": "python",
   "name": "python3"
  },
  "language_info": {
   "codemirror_mode": {
    "name": "ipython",
    "version": 3
   },
   "file_extension": ".py",
   "mimetype": "text/x-python",
   "name": "python",
   "nbconvert_exporter": "python",
   "pygments_lexer": "ipython3",
   "version": "3.7.6"
  }
 },
 "nbformat": 4,
 "nbformat_minor": 2
}
